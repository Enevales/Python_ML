{
  "nbformat": 4,
  "nbformat_minor": 0,
  "metadata": {
    "colab": {
      "name": "Python_Practice_8.ipynb",
      "provenance": [],
      "authorship_tag": "ABX9TyNRgqPxfe1+gLC5gPvEEsMi",
      "include_colab_link": true
    },
    "kernelspec": {
      "name": "python3",
      "display_name": "Python 3"
    },
    "language_info": {
      "name": "python"
    }
  },
  "cells": [
    {
      "cell_type": "markdown",
      "metadata": {
        "id": "view-in-github",
        "colab_type": "text"
      },
      "source": [
        "<a href=\"https://colab.research.google.com/github/Enevales/Python_ML/blob/main/Python_Practice_8.ipynb\" target=\"_parent\"><img src=\"https://colab.research.google.com/assets/colab-badge.svg\" alt=\"Open In Colab\"/></a>"
      ]
    },
    {
      "cell_type": "code",
      "metadata": {
        "colab": {
          "base_uri": "https://localhost:8080/",
          "height": 128
        },
        "id": "Pbwnb50Pov_U",
        "outputId": "05a65122-09d0-4ba3-ae9d-d78fb070205d"
      },
      "source": [
        "from kanren import run, var, fact\n",
        "from kanren.assoccomm import eq_assoccomm as eq\n",
        "from kanren.assoccomm import commutative, associative\n",
        "\n",
        "add = 'add'\n",
        "mul = 'mul'\n",
        "\n",
        "fact(commutative, mul)\n",
        "fact(commutative, add)\n",
        "fact(associative, mul)\n",
        "fact(associative, add)\n",
        "\n",
        "a, b = var('a'), var('b')\n",
        "original_pattern = (mul, (add, 5, a), b)\n",
        "\n",
        "exp1 = (mul, 2, (add, 3, 1))\n",
        "exp2 = (add,5,(mul,8,1))\n",
        "\n",
        "print(run(0, (a,b), eq(original_pattern, exp1)))\n",
        "print(run(0, (a,b), eq(original_pattern, exp2)))\n",
        "\n",
        "#-------------------------------------------------------------------------------\n",
        "\n",
        "from kanren import run, var, fact\n",
        "from kanren.assoccomm import eq_assoccomm as eq\n",
        "from kanren.assoccomm import commutative, associative\n",
        "\n",
        "add = 'add'\n",
        "mul = 'mul'\n",
        "\n",
        "fact(commutative, mul)\n",
        "fact(commutative, add)\n",
        "fact(associative, mul)\n",
        "fact(associative, add)\n",
        "\n",
        "a, b = var('a'), var('b')\n",
        "original_pattern = (mul, (add, 5, a), b)\n",
        "\n",
        "exp1 = (mul, 2, (add, 3, 1))\n",
        "exp2 = (add,5,(mul,8,1))\n",
        "\n",
        "print(run(0, (a,b), eq(original_pattern, exp1)))\n",
        "print(run(0, (a,b), eq(original_pattern, exp2)))"
      ],
      "execution_count": 2,
      "outputs": [
        {
          "output_type": "error",
          "ename": "SyntaxError",
          "evalue": "ignored",
          "traceback": [
            "\u001b[0;36m  File \u001b[0;32m\"<ipython-input-2-32484d747a12>\"\u001b[0;36m, line \u001b[0;32m1\u001b[0m\n\u001b[0;31m    pip install kanren\u001b[0m\n\u001b[0m              ^\u001b[0m\n\u001b[0;31mSyntaxError\u001b[0m\u001b[0;31m:\u001b[0m invalid syntax\n"
          ]
        }
      ]
    }
  ]
}