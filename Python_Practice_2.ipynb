{
  "nbformat": 4,
  "nbformat_minor": 0,
  "metadata": {
    "colab": {
      "name": "Python_Practice_2.ipynb",
      "provenance": [],
      "collapsed_sections": [],
      "authorship_tag": "ABX9TyPHF8tM0Lax0iuTTH9ee70q",
      "include_colab_link": true
    },
    "kernelspec": {
      "name": "python3",
      "display_name": "Python 3"
    },
    "language_info": {
      "name": "python"
    }
  },
  "cells": [
    {
      "cell_type": "markdown",
      "metadata": {
        "id": "view-in-github",
        "colab_type": "text"
      },
      "source": [
        "<a href=\"https://colab.research.google.com/github/Enevales/Python_ML/blob/main/Python_Practice_2.ipynb\" target=\"_parent\"><img src=\"https://colab.research.google.com/assets/colab-badge.svg\" alt=\"Open In Colab\"/></a>"
      ]
    },
    {
      "cell_type": "code",
      "metadata": {
        "colab": {
          "base_uri": "https://localhost:8080/"
        },
        "id": "HVAblc4N9iqo",
        "outputId": "8f8db492-017e-4cd8-8215-21373c64455b"
      },
      "source": [
        "\"\"\"\n",
        "Обработка данных.\n",
        "\n",
        "\"\"\"\n",
        "\n",
        "import numpy as np \n",
        "import sklearn.preprocessing as skp\n",
        "input_data = np.array([[2.1, -1.9, 5.5],\n",
        "                      [-1.5, 2.4, 3.5], \n",
        "                      [0.5, -7.9, 5.6], \n",
        "                      [5.9, 2.3, -5.8]])\n",
        "# бинаризация данных\n",
        "data_bin = skp.Binarizer(threshold=0.5).transform(input_data) \n",
        "print(\"Обработанные данные:\", data_bin)\n",
        "\n",
        "\n",
        "print(\"Cреднее значение каждого столбца = \", input_data.mean(axis = 0)) \n",
        "print(\"Cреднее значение каждой строки = \", input_data.mean(axis = 1)) \n",
        "print(\"Cреднеквадратическое отклонение каждого столбца = \", input_data.std(axis = 0)) \n",
        "\n",
        "# cтандартизация данных\n",
        "data_scaled = skp.scale(input_data)\n",
        "print(\"Среднее значение =\", data_scaled.mean(axis=0)) \n",
        "print(\"Среднеквадратическое отклонение =\", data_scaled.std(axis = 0))\n",
        "\n",
        "# масштабирование данных \n",
        "data_scaler_minmax = skp.MinMaxScaler(feature_range=(0,1))\n",
        "data_scaled_minmax = data_scaler_minmax.fit_transform(input_data) \n",
        "print (\"\\nМасштабированные данные:\\n\", data_scaled_minmax)\n",
        "\n",
        "# L1 нормализация (Метод наименьших модулей)\n",
        "data_normalized_l1 = skp.normalize(input_data, norm = 'l1')\n",
        "print(\"\\nL1 нормализованные данные:\\n\", data_normalized_l1)\n",
        "\n",
        "# L2 нормализация (Метод наименьших квадратов)\n",
        "data_normalized_l2 = skp.normalize(input_data, norm = 'l2')\n",
        "print(\"\\nL2 нормализованные данные:\\n\", data_normalized_l2)\n",
        "\n",
        "# -----------------------------------------------------------"
      ],
      "execution_count": null,
      "outputs": [
        {
          "output_type": "stream",
          "text": [
            "Обработанные данные: [[1. 0. 1.]\n",
            " [0. 1. 1.]\n",
            " [0. 0. 1.]\n",
            " [1. 1. 0.]]\n",
            "Cреднее значение каждого столбца =  [ 1.75  -1.275  2.2  ]\n",
            "Cреднее значение каждой строки =  [ 1.9         1.46666667 -0.6         0.8       ]\n",
            "Cреднеквадратическое отклонение каждого столбца =  [2.71431391 4.20022321 4.69414529]\n",
            "Среднее значение = [1.11022302e-16 0.00000000e+00 0.00000000e+00]\n",
            "Среднеквадратическое отклонение = [1. 1. 1.]\n",
            "\n",
            "Масштабированные данные:\n",
            " [[0.48648649 0.58252427 0.99122807]\n",
            " [0.         1.         0.81578947]\n",
            " [0.27027027 0.         1.        ]\n",
            " [1.         0.99029126 0.        ]]\n",
            "\n",
            "L1 нормализованные данные:\n",
            " [[ 0.22105263 -0.2         0.57894737]\n",
            " [-0.2027027   0.32432432  0.47297297]\n",
            " [ 0.03571429 -0.56428571  0.4       ]\n",
            " [ 0.42142857  0.16428571 -0.41428571]]\n",
            "\n",
            "L2 нормализованные данные:\n",
            " [[ 0.33946114 -0.30713151  0.88906489]\n",
            " [-0.33325106  0.53320169  0.7775858 ]\n",
            " [ 0.05156558 -0.81473612  0.57753446]\n",
            " [ 0.68706914  0.26784051 -0.6754239 ]]\n"
          ],
          "name": "stdout"
        }
      ]
    },
    {
      "cell_type": "code",
      "metadata": {
        "colab": {
          "base_uri": "https://localhost:8080/"
        },
        "id": "-D6LXtUwXj-O",
        "outputId": "01dc2f49-7faa-448f-e640-51efabbf5051"
      },
      "source": [
        "\"\"\"\n",
        "Кодирование данных.\n",
        "\n",
        "\"\"\"\n",
        "\n",
        "input_labels = ['Эрвин','Рудольф','Йозеф','Александр','Шрёдингер']\n",
        "encoder = skp.LabelEncoder()\n",
        "encoder.fit(input_labels)\n",
        "LabelEncoder()\n",
        "\n",
        "test_labels = ['Эрвин','Рудольф','Йозеф']\n",
        "encoded_values = encoder.transform(test_labels)\n",
        "print(\"Метки =\", test_labels)\n",
        "Labels = ['Эрвин','Рудольф','Йозеф']\n",
        "print(\"Кодированные метки =\", list(encoded_values))\n",
        "decoded_list = encoder.inverse_transform(encoded_values)\n",
        "print(\"Деодированные метки =\", decoded_list)\n",
        "\n"
      ],
      "execution_count": null,
      "outputs": [
        {
          "output_type": "stream",
          "text": [
            "Метки = ['Эрвин', 'Рудольф', 'Йозеф']\n",
            "Кодированные метки = [4, 2, 1]\n",
            "Кодированные метки = ['Эрвин' 'Рудольф' 'Йозеф']\n"
          ],
          "name": "stdout"
        }
      ]
    },
    {
      "cell_type": "code",
      "metadata": {
        "id": "qZSJs58gYKlR"
      },
      "source": [
        ""
      ],
      "execution_count": null,
      "outputs": []
    }
  ]
}