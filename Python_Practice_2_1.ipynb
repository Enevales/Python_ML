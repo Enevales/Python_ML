{
  "nbformat": 4,
  "nbformat_minor": 0,
  "metadata": {
    "colab": {
      "name": "Python_Practice_2.1.ipynb",
      "provenance": [],
      "collapsed_sections": [],
      "authorship_tag": "ABX9TyNE1D8Hz+d4+byG16uHkvtO",
      "include_colab_link": true
    },
    "kernelspec": {
      "name": "python3",
      "display_name": "Python 3"
    },
    "language_info": {
      "name": "python"
    }
  },
  "cells": [
    {
      "cell_type": "markdown",
      "metadata": {
        "id": "view-in-github",
        "colab_type": "text"
      },
      "source": [
        "<a href=\"https://colab.research.google.com/github/Enevales/Python_ML/blob/main/Python_Practice_2_1.ipynb\" target=\"_parent\"><img src=\"https://colab.research.google.com/assets/colab-badge.svg\" alt=\"Open In Colab\"/></a>"
      ]
    },
    {
      "cell_type": "code",
      "metadata": {
        "colab": {
          "base_uri": "https://localhost:8080/",
          "height": 268
        },
        "id": "z5IDW4FabqIN",
        "outputId": "8a6f55ab-a338-486a-ac0d-523215f3f50e"
      },
      "source": [
        "\"\"\"\n",
        "Линейная регрессия.\n",
        "\n",
        "\"\"\"\n",
        "\n",
        "import numpy as np \n",
        "import sklearn \n",
        "from sklearn import linear_model\n",
        "import matplotlib.pyplot as plt\n",
        "\n",
        "\n",
        "input = 'sample_data/california_housing_test.csv'\n",
        "\n",
        "input_data = np.loadtxt(input, delimiter=',', skiprows=1)\n",
        "X, y = input_data[:100,2:3], input_data[:100,7:8]\n",
        "\n",
        "\n",
        "training_samples = int(0.6 * len(X))\n",
        "testing_samples = len(X) - training_samples\n",
        "X_train, y_train = X[:training_samples], y[:training_samples]\n",
        "X_test, y_test = X[training_samples:], y[training_samples:]\n",
        "\n",
        "reg_linear = linear_model.LinearRegression()\n",
        "reg_linear.fit(X_train, y_train)\n",
        "\n",
        "y_test_pred = reg_linear.predict(X_test)\n",
        "plt.scatter(X_train, y_train, color = 'red')\n",
        "plt.title('Зависимость дохода домовладельца от его возраста.')\n",
        "plt.plot(X_test, y_test_pred, color = 'black', linewidth = 2)\n",
        "plt.xticks(())\n",
        "plt.yticks(())\n",
        "plt.show()\n"
      ],
      "execution_count": null,
      "outputs": [
        {
          "output_type": "display_data",
          "data": {
            "image/png": "[encoded data removed]",
            "text/plain": [
              "<Figure size 432x288 with 1 Axes>"
            ]
          },
          "metadata": {
            "tags": []
          }
        }
      ]
    }
  ]
}