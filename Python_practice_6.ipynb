{
  "nbformat": 4,
  "nbformat_minor": 0,
  "metadata": {
    "colab": {
      "name": "Python_practice_6.ipynb",
      "provenance": [],
      "collapsed_sections": [],
      "authorship_tag": "ABX9TyPRy1MItYlEQ88Ek7TOL2Pu",
      "include_colab_link": true
    },
    "kernelspec": {
      "name": "python3",
      "display_name": "Python 3"
    },
    "language_info": {
      "name": "python"
    }
  },
  "cells": [
    {
      "cell_type": "markdown",
      "metadata": {
        "id": "view-in-github",
        "colab_type": "text"
      },
      "source": [
        "<a href=\"https://colab.research.google.com/github/Enevales/Python_ML/blob/main/Python_practice_6.ipynb\" target=\"_parent\"><img src=\"https://colab.research.google.com/assets/colab-badge.svg\" alt=\"Open In Colab\"/></a>"
      ]
    },
    {
      "cell_type": "code",
      "metadata": {
        "colab": {
          "base_uri": "https://localhost:8080/",
          "height": 365
        },
        "id": "v3iTm1cDtpAq",
        "outputId": "f0d7bf74-fd00-458f-d4ef-5234c9f70023"
      },
      "source": [
        "#Классификатор на основе перцептрона\n",
        " \n",
        "import neurolab as nl\n",
        "import matplotlib.pyplot as plt\n",
        " \n",
        " \n",
        "input = [[0, 0], [0, 1], [1, 0], [1, 1]]\n",
        "target = [[0], [0], [0], [1]]\n",
        " \n",
        "net = nl.net.newp([[0, 1],[0, 1]], 1)\n",
        "error_progress = net.train(input, target, epochs=100, show=10, lr=0.1)\n",
        " \n",
        "plt.figure()\n",
        "plt.plot(error_progress)\n",
        "plt.xlabel('Number of epochs')\n",
        "plt.ylabel('Training error')\n",
        "plt.grid()\n",
        "plt.show()\n",
        "\n",
        "# -----------------------------------------------------------"
      ],
      "execution_count": 2,
      "outputs": [
        {
          "output_type": "error",
          "ename": "ModuleNotFoundError",
          "evalue": "ignored",
          "traceback": [
            "\u001b[0;31m---------------------------------------------------------------------------\u001b[0m",
            "\u001b[0;31mModuleNotFoundError\u001b[0m                       Traceback (most recent call last)",
            "\u001b[0;32m<ipython-input-2-8f257f9e138f>\u001b[0m in \u001b[0;36m<module>\u001b[0;34m()\u001b[0m\n\u001b[1;32m      1\u001b[0m \u001b[0;31m#Классификатор на основе перцептрона\u001b[0m\u001b[0;34m\u001b[0m\u001b[0;34m\u001b[0m\u001b[0;34m\u001b[0m\u001b[0m\n\u001b[1;32m      2\u001b[0m \u001b[0;34m\u001b[0m\u001b[0m\n\u001b[0;32m----> 3\u001b[0;31m \u001b[0;32mimport\u001b[0m \u001b[0mneurolab\u001b[0m \u001b[0;32mas\u001b[0m \u001b[0mnl\u001b[0m\u001b[0;34m\u001b[0m\u001b[0;34m\u001b[0m\u001b[0m\n\u001b[0m\u001b[1;32m      4\u001b[0m \u001b[0;32mimport\u001b[0m \u001b[0mmatplotlib\u001b[0m\u001b[0;34m.\u001b[0m\u001b[0mpyplot\u001b[0m \u001b[0;32mas\u001b[0m \u001b[0mplt\u001b[0m\u001b[0;34m\u001b[0m\u001b[0;34m\u001b[0m\u001b[0m\n\u001b[1;32m      5\u001b[0m \u001b[0;34m\u001b[0m\u001b[0m\n",
            "\u001b[0;31mModuleNotFoundError\u001b[0m: No module named 'neurolab'",
            "",
            "\u001b[0;31m---------------------------------------------------------------------------\u001b[0;32m\nNOTE: If your import is failing due to a missing package, you can\nmanually install dependencies using either !pip or !apt.\n\nTo view examples of installing some common dependencies, click the\n\"Open Examples\" button below.\n\u001b[0;31m---------------------------------------------------------------------------\u001b[0m\n"
          ]
        }
      ]
    },
    {
      "cell_type": "code",
      "metadata": {
        "colab": {
          "base_uri": "https://localhost:8080/",
          "height": 129
        },
        "id": "6JJ9S3i7txM-",
        "outputId": "1c5d1787-2678-4a1c-d8fd-74f227d6c719"
      },
      "source": [
        "  \n",
        "import numpy as np\n",
        " \n",
        " \n",
        "input_data = np.array([[2. , 4. , 0. , 0. ],[1.5, 3.9, 0. , 0. ],[2.2, 4.1, 0. , 0. ],[1.9, 4.7, 0. , 0. ],[5.4, 2.2, 0. , 1. ],[4.3, 7.1, 0. , 1. ],[5.8, 4.9, 0. , 1. ],[6.5, 3.2, 0. , 1. ],[3. , 2. , 1. , 0. ],[2.5, 0.5, 1. , 0. ],[3.5, 2.1, 1. , 0. ],[2.9, 0.3, 1. , 0. ],[6.5, 8.3, 1. , 1. ],[3.2, 6.2, 1. , 1. ],[4.9, 7.8, 1. , 1. ],[2.1, 4.8, 1. , 1. ]])\n",
        " \n",
        "data = input_data[:, 0:2]\n",
        "labels = input_data[:, 2:]\n",
        "plt.clf()\n",
        "plt.figure()\n",
        "plt.scatter(data[:,0], data[:,1])\n",
        "plt.xlabel('Dimension 1')\n",
        "plt.ylabel('Dimension 2')\n",
        "plt.title('Input data')\n",
        " \n",
        "dim1_min, dim1_max = data[:,0].min(), data[:,0].max()\n",
        "dim2_min, dim2_max = data[:,1].min(), data[:,1].max()\n",
        " \n",
        "nn_output_layer = labels.shape[1]\n",
        " \n",
        "dim1 = [dim1_min, dim1_max]\n",
        "dim2 = [dim2_min, dim2_max]\n",
        "neural_net = nl.net.newp([dim1, dim2], nn_output_layer)\n",
        " \n",
        "error = neural_net.train(data, labels, epochs = 200, show = 20, lr = 0.01)\n",
        "plt.clf()\n",
        "plt.figure()\n",
        "plt.plot(error)\n",
        "plt.xlabel('Number of epochs')\n",
        "plt.ylabel('Training error')\n",
        "plt.title('Training error progress')\n",
        "plt.grid()\n",
        "plt.show()\n",
        " \n",
        "print('\\nTest Results:')\n",
        "data_test = [[1.5, 3.2], [3.6, 1.7], [3.6, 5.7],[1.6, 3.9]]\n",
        "for item in data_test:\n",
        "print(item, '-->', neural_net.sim([item])[0])"
      ],
      "execution_count": 3,
      "outputs": [
        {
          "output_type": "error",
          "ename": "IndentationError",
          "evalue": "ignored",
          "traceback": [
            "\u001b[0;36m  File \u001b[0;32m\"<ipython-input-3-b23caecbec98>\"\u001b[0;36m, line \u001b[0;32m38\u001b[0m\n\u001b[0;31m    print(item, '-->', neural_net.sim([item])[0])\u001b[0m\n\u001b[0m        ^\u001b[0m\n\u001b[0;31mIndentationError\u001b[0m\u001b[0;31m:\u001b[0m expected an indented block\n"
          ]
        }
      ]
    },
    {
      "cell_type": "code",
      "metadata": {
        "colab": {
          "base_uri": "https://localhost:8080/",
          "height": 230
        },
        "id": "N5EZYYwCt2vR",
        "outputId": "25d87691-b728-4fd8-c81f-18a8a2226618"
      },
      "source": [
        "#Многоуровневые нейронные сети\n",
        "\n",
        " \n",
        "min_val = -30\n",
        "max_val = 30\n",
        "num_points = 160\n",
        "x = np.linspace(min_val, max_val, num_points)\n",
        "y = 2 * np.square(x) + 8\n",
        "y /= np.linalg.norm(y)\n",
        " \n",
        "data = x.reshape(num_points, 1)\n",
        "labels = y.reshape(num_points, 1)\n",
        " \n",
        "plot1 = plt.figure(1)\n",
        "plt.scatter(data, labels)\n",
        "plt.xlabel('Dimension 1')\n",
        "plt.ylabel('Dimension 2')\n",
        "plt.title('Data-points')\n",
        " \n",
        "neural_net = nl.net.newff([[min_val, max_val]], [10, 6, 1])\n",
        "neural_net.trainf = nl.train.train_gd\n",
        "error = neural_net.train(data, labels, epochs = 1000, show = 100, goal = 0.01)\n",
        "output = neural_net.sim(data)\n",
        "y_pred = output.reshape(num_points)\n",
        " \n",
        "plot2= plt.figure(2)\n",
        "plt.plot(error)\n",
        "plt.xlabel('Number of epochs')\n",
        "plt.ylabel('Error')\n",
        "plt.title('Training error progress')\n",
        " \n",
        "x_dense = np.linspace(min_val, max_val, num_points * 2)\n",
        "y_dense_pred = neural_net.sim(x_dense.reshape(x_dense.size,1)).reshape(x_dense.size)\n",
        " \n",
        "plot3 = plt.figure(3)\n",
        "plt.plot(x_dense, y_dense_pred, '-', x, y, '.', x, y_pred, 'p')\n",
        "plt.title('Actual vs predicted')\n",
        "plt.show()"
      ],
      "execution_count": 1,
      "outputs": [
        {
          "output_type": "error",
          "ename": "NameError",
          "evalue": "ignored",
          "traceback": [
            "\u001b[0;31m---------------------------------------------------------------------------\u001b[0m",
            "\u001b[0;31mNameError\u001b[0m                                 Traceback (most recent call last)",
            "\u001b[0;32m<ipython-input-1-5a41a0c623d3>\u001b[0m in \u001b[0;36m<module>\u001b[0;34m()\u001b[0m\n\u001b[1;32m      5\u001b[0m \u001b[0mmax_val\u001b[0m \u001b[0;34m=\u001b[0m \u001b[0;36m30\u001b[0m\u001b[0;34m\u001b[0m\u001b[0;34m\u001b[0m\u001b[0m\n\u001b[1;32m      6\u001b[0m \u001b[0mnum_points\u001b[0m \u001b[0;34m=\u001b[0m \u001b[0;36m160\u001b[0m\u001b[0;34m\u001b[0m\u001b[0;34m\u001b[0m\u001b[0m\n\u001b[0;32m----> 7\u001b[0;31m \u001b[0mx\u001b[0m \u001b[0;34m=\u001b[0m \u001b[0mnp\u001b[0m\u001b[0;34m.\u001b[0m\u001b[0mlinspace\u001b[0m\u001b[0;34m(\u001b[0m\u001b[0mmin_val\u001b[0m\u001b[0;34m,\u001b[0m \u001b[0mmax_val\u001b[0m\u001b[0;34m,\u001b[0m \u001b[0mnum_points\u001b[0m\u001b[0;34m)\u001b[0m\u001b[0;34m\u001b[0m\u001b[0;34m\u001b[0m\u001b[0m\n\u001b[0m\u001b[1;32m      8\u001b[0m \u001b[0my\u001b[0m \u001b[0;34m=\u001b[0m \u001b[0;36m2\u001b[0m \u001b[0;34m*\u001b[0m \u001b[0mnp\u001b[0m\u001b[0;34m.\u001b[0m\u001b[0msquare\u001b[0m\u001b[0;34m(\u001b[0m\u001b[0mx\u001b[0m\u001b[0;34m)\u001b[0m \u001b[0;34m+\u001b[0m \u001b[0;36m8\u001b[0m\u001b[0;34m\u001b[0m\u001b[0;34m\u001b[0m\u001b[0m\n\u001b[1;32m      9\u001b[0m \u001b[0my\u001b[0m \u001b[0;34m/=\u001b[0m \u001b[0mnp\u001b[0m\u001b[0;34m.\u001b[0m\u001b[0mlinalg\u001b[0m\u001b[0;34m.\u001b[0m\u001b[0mnorm\u001b[0m\u001b[0;34m(\u001b[0m\u001b[0my\u001b[0m\u001b[0;34m)\u001b[0m\u001b[0;34m\u001b[0m\u001b[0;34m\u001b[0m\u001b[0m\n",
            "\u001b[0;31mNameError\u001b[0m: name 'np' is not defined"
          ]
        }
      ]
    }
  ]
}